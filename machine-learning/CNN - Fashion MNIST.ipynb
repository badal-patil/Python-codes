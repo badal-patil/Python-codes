{
 "cells": [
  {
   "cell_type": "code",
   "execution_count": 18,
   "id": "9df54f49",
   "metadata": {},
   "outputs": [],
   "source": [
    "from keras.callbacks import ModelCheckpoint\n",
    "from sklearn.model_selection import GridSearchCV\n",
    "from keras.optimizers import SGD\n",
    "import tensorflow as tf\n",
    "import numpy as np\n",
    "import matplotlib.pyplot as plt\n",
    "import keras\n",
    "import keras.callbacks\n",
    "import tensorflow.keras.datasets.fashion_mnist"
   ]
  },
  {
   "cell_type": "code",
   "execution_count": 20,
   "id": "1f1cb392",
   "metadata": {},
   "outputs": [
    {
     "name": "stdout",
     "output_type": "stream",
     "text": [
      "Downloading data from https://storage.googleapis.com/tensorflow/tf-keras-datasets/train-labels-idx1-ubyte.gz\n",
      "29515/29515 [==============================] - 0s 1us/step\n",
      "Downloading data from https://storage.googleapis.com/tensorflow/tf-keras-datasets/train-images-idx3-ubyte.gz\n",
      "26421880/26421880 [==============================] - 7s 0us/step\n",
      "Downloading data from https://storage.googleapis.com/tensorflow/tf-keras-datasets/t10k-labels-idx1-ubyte.gz\n",
      "5148/5148 [==============================] - 0s 0s/step\n",
      "Downloading data from https://storage.googleapis.com/tensorflow/tf-keras-datasets/t10k-images-idx3-ubyte.gz\n",
      "4422102/4422102 [==============================] - 2s 0us/step\n"
     ]
    }
   ],
   "source": [
    "(x_train,y_train),(x_test,y_test) =  tensorflow.keras.datasets.fashion_mnist.load_data()"
   ]
  },
  {
   "cell_type": "code",
   "execution_count": 21,
   "id": "520a52ae",
   "metadata": {},
   "outputs": [
    {
     "name": "stdout",
     "output_type": "stream",
     "text": [
      "(60000, 28, 28)\n",
      "(60000,)\n",
      "(10000, 28, 28)\n",
      "(10000,)\n"
     ]
    }
   ],
   "source": [
    "print(x_train.shape)\n",
    "print(y_train.shape)\n",
    "print(x_test.shape)\n",
    "print(y_test.shape)"
   ]
  },
  {
   "cell_type": "code",
   "execution_count": 22,
   "id": "e52eee79",
   "metadata": {},
   "outputs": [
    {
     "name": "stdout",
     "output_type": "stream",
     "text": [
      "60000 train set samples\n",
      "10000 train set samples\n"
     ]
    }
   ],
   "source": [
    "print(x_train.shape[0], 'train set samples')\n",
    "print(y_test.shape[0], 'train set samples')"
   ]
  },
  {
   "cell_type": "code",
   "execution_count": 23,
   "id": "c3d4ea27",
   "metadata": {
    "scrolled": true
   },
   "outputs": [
    {
     "name": "stdout",
     "output_type": "stream",
     "text": [
      "0\n",
      "255\n"
     ]
    }
   ],
   "source": [
    "print(np.min(x_train))\n",
    "print(np.max(x_train))"
   ]
  },
  {
   "cell_type": "code",
   "execution_count": 24,
   "id": "1fb6409f",
   "metadata": {},
   "outputs": [
    {
     "name": "stdout",
     "output_type": "stream",
     "text": [
      "0.0\n",
      "1.0\n",
      "[[[0. 0. 0. ... 0. 0. 0.]\n",
      "  [0. 0. 0. ... 0. 0. 0.]\n",
      "  [0. 0. 0. ... 0. 0. 0.]\n",
      "  ...\n",
      "  [0. 0. 0. ... 0. 0. 0.]\n",
      "  [0. 0. 0. ... 0. 0. 0.]\n",
      "  [0. 0. 0. ... 0. 0. 0.]]\n",
      "\n",
      " [[0. 0. 0. ... 0. 0. 0.]\n",
      "  [0. 0. 0. ... 0. 0. 0.]\n",
      "  [0. 0. 0. ... 0. 0. 0.]\n",
      "  ...\n",
      "  [0. 0. 0. ... 0. 0. 0.]\n",
      "  [0. 0. 0. ... 0. 0. 0.]\n",
      "  [0. 0. 0. ... 0. 0. 0.]]]\n"
     ]
    }
   ],
   "source": [
    "x_train = x_train.astype('float32')/255\n",
    "x_test = x_test.astype('float32')/255\n",
    "print(np.min(x_train))\n",
    "print(np.max(x_train))\n",
    "print(x_train[:2])"
   ]
  },
  {
   "cell_type": "code",
   "execution_count": 25,
   "id": "b2576efd",
   "metadata": {},
   "outputs": [],
   "source": [
    "from sklearn.model_selection import train_test_split"
   ]
  },
  {
   "cell_type": "code",
   "execution_count": 26,
   "id": "06d59a3b",
   "metadata": {},
   "outputs": [],
   "source": [
    "np.random.seed(500)"
   ]
  },
  {
   "cell_type": "code",
   "execution_count": 35,
   "id": "b52c20c7",
   "metadata": {},
   "outputs": [],
   "source": [
    "train_x, val_x,train_y, val_y = train_test_split(x_train, y_train, test_size = 0.2, random_state = 500)"
   ]
  },
  {
   "cell_type": "code",
   "execution_count": 36,
   "id": "a456c0ce",
   "metadata": {},
   "outputs": [],
   "source": [
    "test_x, test_y = x_test, y_test"
   ]
  },
  {
   "cell_type": "code",
   "execution_count": 37,
   "id": "7e4aa48e",
   "metadata": {},
   "outputs": [],
   "source": [
    "train_x = train_x.reshape(train_x.shape[0],28,28,1)\n",
    "val_x = val_x.reshape(val_x.shape[0],28,28,1)\n",
    "test_x = test_x.reshape(test_x.shape[0],28,28,1)"
   ]
  },
  {
   "cell_type": "code",
   "execution_count": 38,
   "id": "bdffc581",
   "metadata": {},
   "outputs": [],
   "source": [
    "train_y = tf.keras.utils.to_categorical(train_y,10)\n",
    "val_y = tf.keras.utils.to_categorical(val_y,10)\n",
    "test_y = tf.keras.utils.to_categorical(test_y,10)\n"
   ]
  },
  {
   "cell_type": "code",
   "execution_count": 39,
   "id": "bbe5b80b",
   "metadata": {},
   "outputs": [
    {
     "name": "stdout",
     "output_type": "stream",
     "text": [
      "(48000, 28, 28, 1)\n",
      "(48000, 10)\n"
     ]
    }
   ],
   "source": [
    "print(train_x.shape)\n",
    "print(train_y.shape)"
   ]
  },
  {
   "cell_type": "code",
   "execution_count": 40,
   "id": "22592765",
   "metadata": {},
   "outputs": [
    {
     "name": "stdout",
     "output_type": "stream",
     "text": [
      "48000\n",
      "12000\n",
      "10000\n"
     ]
    }
   ],
   "source": [
    "print(train_x.shape[0])\n",
    "print(val_x.shape[0])\n",
    "print(test_x .shape[0])"
   ]
  },
  {
   "cell_type": "code",
   "execution_count": 41,
   "id": "97ac217b",
   "metadata": {},
   "outputs": [],
   "source": [
    "model1 = tf.keras.Sequential()"
   ]
  },
  {
   "cell_type": "code",
   "execution_count": 42,
   "id": "8eb41b93",
   "metadata": {},
   "outputs": [],
   "source": [
    "model1.add(tf.keras.layers.Flatten(input_shape = (28,28,1)))\n",
    "model1.add(tf.keras.layers.Dense(10,activation='softmax'))"
   ]
  },
  {
   "cell_type": "code",
   "execution_count": 43,
   "id": "58770ab8",
   "metadata": {},
   "outputs": [
    {
     "name": "stdout",
     "output_type": "stream",
     "text": [
      "Model: \"sequential_1\"\n",
      "_________________________________________________________________\n",
      " Layer (type)                Output Shape              Param #   \n",
      "=================================================================\n",
      " flatten (Flatten)           (None, 784)               0         \n",
      "                                                                 \n",
      " dense (Dense)               (None, 10)                7850      \n",
      "                                                                 \n",
      "=================================================================\n",
      "Total params: 7850 (30.66 KB)\n",
      "Trainable params: 7850 (30.66 KB)\n",
      "Non-trainable params: 0 (0.00 Byte)\n",
      "_________________________________________________________________\n"
     ]
    }
   ],
   "source": [
    "model1.summary()"
   ]
  },
  {
   "cell_type": "code",
   "execution_count": 44,
   "id": "fa2de8c6",
   "metadata": {},
   "outputs": [],
   "source": [
    "model1.compile(loss='categorical_crossentropy', optimizer='adam', metrics=['accuracy'])"
   ]
  },
  {
   "cell_type": "code",
   "execution_count": 45,
   "id": "cbb8f0eb",
   "metadata": {},
   "outputs": [
    {
     "name": "stdout",
     "output_type": "stream",
     "text": [
      "Epoch 1/3\n",
      "375/375 [==============================] - 1s 2ms/step - loss: 0.7807 - accuracy: 0.7456 - val_loss: 0.5604 - val_accuracy: 0.8117\n",
      "Epoch 2/3\n",
      "375/375 [==============================] - 1s 2ms/step - loss: 0.5380 - accuracy: 0.8206 - val_loss: 0.4934 - val_accuracy: 0.8338\n",
      "Epoch 3/3\n",
      "375/375 [==============================] - 1s 2ms/step - loss: 0.4910 - accuracy: 0.8367 - val_loss: 0.4662 - val_accuracy: 0.8398\n"
     ]
    },
    {
     "data": {
      "text/plain": [
       "<keras.src.callbacks.History at 0x214e7f70>"
      ]
     },
     "execution_count": 45,
     "metadata": {},
     "output_type": "execute_result"
    }
   ],
   "source": [
    "model1.fit(train_x, train_y, batch_size = 128, epochs =3, validation_data=(val_x, val_y))"
   ]
  },
  {
   "cell_type": "code",
   "execution_count": 46,
   "id": "68e8a5a4",
   "metadata": {},
   "outputs": [
    {
     "name": "stdout",
     "output_type": "stream",
     "text": [
      " ACCURACY   :     82.56000280380249\n"
     ]
    }
   ],
   "source": [
    "scores = model1.evaluate(test_x, test_y, verbose = 0)\n",
    "print(\" ACCURACY   :    \",100*scores[1])"
   ]
  },
  {
   "cell_type": "code",
   "execution_count": 47,
   "id": "acf11e2b",
   "metadata": {},
   "outputs": [],
   "source": [
    "model2 = tf.keras.Sequential()"
   ]
  },
  {
   "cell_type": "code",
   "execution_count": 51,
   "id": "2f3ee2f5",
   "metadata": {},
   "outputs": [],
   "source": [
    "model2.add(tf.keras.layers.Conv2D(filters = 64, kernel_size = 2, padding = 'same', activation = 'relu', input_shape = (28,28,1)))\n",
    "model2.add(tf.keras.layers.MaxPooling2D(pool_size = 2))\n",
    "model2.add(tf.keras.layers.Conv2D(filters = 32, kernel_size = 2, padding = 'same', activation = 'relu'))\n",
    "model2.add(tf.keras.layers.MaxPooling2D(pool_size = 2))\n",
    "model2.add(tf.keras.layers.Flatten())\n",
    "model2.add(tf.keras.layers.Dense(128,activation='relu'))\n",
    "model2.add(tf.keras.layers.Dense(64,activation='relu'))\n",
    "model2.add(tf.keras.layers.Dense(10,activation='softmax'))"
   ]
  },
  {
   "cell_type": "code",
   "execution_count": 52,
   "id": "0e9c0263",
   "metadata": {},
   "outputs": [
    {
     "name": "stdout",
     "output_type": "stream",
     "text": [
      "Model: \"sequential_2\"\n",
      "_________________________________________________________________\n",
      " Layer (type)                Output Shape              Param #   \n",
      "=================================================================\n",
      " conv2d (Conv2D)             (None, 28, 28, 64)        320       \n",
      "                                                                 \n",
      " max_pooling2d (MaxPooling2  (None, 14, 14, 64)        0         \n",
      " D)                                                              \n",
      "                                                                 \n",
      " conv2d_1 (Conv2D)           (None, 14, 14, 32)        8224      \n",
      "                                                                 \n",
      " max_pooling2d_1 (MaxPoolin  (None, 7, 7, 32)          0         \n",
      " g2D)                                                            \n",
      "                                                                 \n",
      " flatten_1 (Flatten)         (None, 1568)              0         \n",
      "                                                                 \n",
      " dense_1 (Dense)             (None, 128)               200832    \n",
      "                                                                 \n",
      " dense_2 (Dense)             (None, 64)                8256      \n",
      "                                                                 \n",
      " dense_3 (Dense)             (None, 10)                650       \n",
      "                                                                 \n",
      "=================================================================\n",
      "Total params: 218282 (852.66 KB)\n",
      "Trainable params: 218282 (852.66 KB)\n",
      "Non-trainable params: 0 (0.00 Byte)\n",
      "_________________________________________________________________\n"
     ]
    }
   ],
   "source": [
    "model2.summary()"
   ]
  },
  {
   "cell_type": "code",
   "execution_count": 53,
   "id": "3a9a977f",
   "metadata": {},
   "outputs": [],
   "source": [
    "model2.compile(loss='categorical_crossentropy', optimizer='adam', metrics=['accuracy'])"
   ]
  },
  {
   "cell_type": "code",
   "execution_count": 57,
   "id": "95b25852",
   "metadata": {},
   "outputs": [
    {
     "name": "stdout",
     "output_type": "stream",
     "text": [
      "Epoch 1/10\n",
      "188/188 [==============================] - 33s 173ms/step - loss: 0.7045 - accuracy: 0.7420 - val_loss: 0.4330 - val_accuracy: 0.8456\n",
      "Epoch 2/10\n",
      "188/188 [==============================] - 33s 175ms/step - loss: 0.4100 - accuracy: 0.8529 - val_loss: 0.3989 - val_accuracy: 0.8578\n",
      "Epoch 3/10\n",
      "188/188 [==============================] - 32s 172ms/step - loss: 0.3541 - accuracy: 0.8729 - val_loss: 0.3270 - val_accuracy: 0.8847\n",
      "Epoch 4/10\n",
      "188/188 [==============================] - 33s 175ms/step - loss: 0.3204 - accuracy: 0.8839 - val_loss: 0.2960 - val_accuracy: 0.8957\n",
      "Epoch 5/10\n",
      "188/188 [==============================] - 33s 174ms/step - loss: 0.2935 - accuracy: 0.8933 - val_loss: 0.2801 - val_accuracy: 0.9005\n",
      "Epoch 6/10\n",
      "188/188 [==============================] - 33s 175ms/step - loss: 0.2796 - accuracy: 0.8982 - val_loss: 0.2686 - val_accuracy: 0.9043\n",
      "Epoch 7/10\n",
      "188/188 [==============================] - 33s 173ms/step - loss: 0.2615 - accuracy: 0.9040 - val_loss: 0.2685 - val_accuracy: 0.9038\n",
      "Epoch 8/10\n",
      "188/188 [==============================] - 33s 174ms/step - loss: 0.2435 - accuracy: 0.9102 - val_loss: 0.2450 - val_accuracy: 0.9112\n",
      "Epoch 9/10\n",
      "188/188 [==============================] - 33s 174ms/step - loss: 0.2343 - accuracy: 0.9139 - val_loss: 0.2596 - val_accuracy: 0.9045\n",
      "Epoch 10/10\n",
      "188/188 [==============================] - 33s 174ms/step - loss: 0.2239 - accuracy: 0.9184 - val_loss: 0.2492 - val_accuracy: 0.9074\n"
     ]
    },
    {
     "data": {
      "text/plain": [
       "<keras.src.callbacks.History at 0x2659d070>"
      ]
     },
     "execution_count": 57,
     "metadata": {},
     "output_type": "execute_result"
    }
   ],
   "source": [
    "model2.fit(train_x, train_y, batch_size = 256, epochs =10, validation_data=(val_x, val_y))"
   ]
  },
  {
   "cell_type": "code",
   "execution_count": 58,
   "id": "aefb417b",
   "metadata": {},
   "outputs": [
    {
     "name": "stdout",
     "output_type": "stream",
     "text": [
      " ACCURACY (TEST)   :     89.6399974822998\n",
      " ACCURACY (TRAIN)  :     92.2041654586792\n"
     ]
    }
   ],
   "source": [
    "test_score = model2.evaluate(test_x, test_y, verbose = 0)\n",
    "print(\" ACCURACY (TEST)   :    \",100*test_score[1])\n",
    "train_score = model2.evaluate(train_x, train_y, verbose = 0)\n",
    "print(\" ACCURACY (TRAIN)  :    \",100*train_score[1])"
   ]
  },
  {
   "cell_type": "code",
   "execution_count": null,
   "id": "f09f07df",
   "metadata": {},
   "outputs": [],
   "source": []
  }
 ],
 "metadata": {
  "kernelspec": {
   "display_name": "Python 3 (ipykernel)",
   "language": "python",
   "name": "python3"
  },
  "language_info": {
   "codemirror_mode": {
    "name": "ipython",
    "version": 3
   },
   "file_extension": ".py",
   "mimetype": "text/x-python",
   "name": "python",
   "nbconvert_exporter": "python",
   "pygments_lexer": "ipython3",
   "version": "3.11.3"
  }
 },
 "nbformat": 4,
 "nbformat_minor": 5
}
